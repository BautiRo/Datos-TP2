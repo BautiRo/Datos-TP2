{
 "cells": [
  {
   "cell_type": "code",
   "execution_count": 3,
   "metadata": {},
   "outputs": [],
   "source": [
    "import pandas as pd\n",
    "import numpy as np\n",
    "import matplotlib.pyplot as plt"
   ]
  },
  {
   "cell_type": "code",
   "execution_count": 21,
   "metadata": {},
   "outputs": [
    {
     "data": {
      "text/html": [
       "<div>\n",
       "<style scoped>\n",
       "    .dataframe tbody tr th:only-of-type {\n",
       "        vertical-align: middle;\n",
       "    }\n",
       "\n",
       "    .dataframe tbody tr th {\n",
       "        vertical-align: top;\n",
       "    }\n",
       "\n",
       "    .dataframe thead th {\n",
       "        text-align: right;\n",
       "    }\n",
       "</style>\n",
       "<table border=\"1\" class=\"dataframe\">\n",
       "  <thead>\n",
       "    <tr style=\"text-align: right;\">\n",
       "      <th></th>\n",
       "      <th>building_id</th>\n",
       "      <th>damage_grade_1</th>\n",
       "    </tr>\n",
       "  </thead>\n",
       "  <tbody>\n",
       "    <tr>\n",
       "      <th>0</th>\n",
       "      <td>300051</td>\n",
       "      <td>3</td>\n",
       "    </tr>\n",
       "    <tr>\n",
       "      <th>1</th>\n",
       "      <td>99355</td>\n",
       "      <td>2</td>\n",
       "    </tr>\n",
       "    <tr>\n",
       "      <th>2</th>\n",
       "      <td>890251</td>\n",
       "      <td>2</td>\n",
       "    </tr>\n",
       "    <tr>\n",
       "      <th>3</th>\n",
       "      <td>745817</td>\n",
       "      <td>1</td>\n",
       "    </tr>\n",
       "    <tr>\n",
       "      <th>4</th>\n",
       "      <td>421793</td>\n",
       "      <td>3</td>\n",
       "    </tr>\n",
       "    <tr>\n",
       "      <th>...</th>\n",
       "      <td>...</td>\n",
       "      <td>...</td>\n",
       "    </tr>\n",
       "    <tr>\n",
       "      <th>86863</th>\n",
       "      <td>310028</td>\n",
       "      <td>2</td>\n",
       "    </tr>\n",
       "    <tr>\n",
       "      <th>86864</th>\n",
       "      <td>663567</td>\n",
       "      <td>2</td>\n",
       "    </tr>\n",
       "    <tr>\n",
       "      <th>86865</th>\n",
       "      <td>1049160</td>\n",
       "      <td>2</td>\n",
       "    </tr>\n",
       "    <tr>\n",
       "      <th>86866</th>\n",
       "      <td>442785</td>\n",
       "      <td>2</td>\n",
       "    </tr>\n",
       "    <tr>\n",
       "      <th>86867</th>\n",
       "      <td>501372</td>\n",
       "      <td>2</td>\n",
       "    </tr>\n",
       "  </tbody>\n",
       "</table>\n",
       "<p>86868 rows × 2 columns</p>\n",
       "</div>"
      ],
      "text/plain": [
       "       building_id  damage_grade_1\n",
       "0           300051               3\n",
       "1            99355               2\n",
       "2           890251               2\n",
       "3           745817               1\n",
       "4           421793               3\n",
       "...            ...             ...\n",
       "86863       310028               2\n",
       "86864       663567               2\n",
       "86865      1049160               2\n",
       "86866       442785               2\n",
       "86867       501372               2\n",
       "\n",
       "[86868 rows x 2 columns]"
      ]
     },
     "execution_count": 21,
     "metadata": {},
     "output_type": "execute_result"
    }
   ],
   "source": [
    "result1 = pd.read_csv('Ensamble XGB-RF-KNN new values.csv').rename(columns={\"damage_grade\":\"damage_grade_1\"})\n",
    "result2 = pd.read_csv('submission_27_7_E_6.csv').rename(columns={\"damage_grade\":\"damage_grade_2\"})\n",
    "result3 = pd.read_csv('Ensamble XGB-RF-KNN-f.csv').rename(columns={\"damage_grade\":\"damage_grade_3\"})\n",
    "result1"
   ]
  },
  {
   "cell_type": "code",
   "execution_count": 39,
   "metadata": {},
   "outputs": [],
   "source": [
    "merged = result1.merge(result2,on=\"building_id\").merge(result3,on=\"building_id\")\n",
    "\n",
    "# merged[\"most common\"] = merged.apply(lambda x: [x[damage_grade_1]])\n",
    "\n",
    "\n",
    "\n",
    "merged[\"all_equals\"] = merged.apply(lambda x: 1 if (x[\"damage_grade_1\"] == x[\"damage_grade_2\"] == x[\"damage_grade_3\"]) else 0, axis = 1)"
   ]
  },
  {
   "cell_type": "code",
   "execution_count": 42,
   "metadata": {},
   "outputs": [
    {
     "data": {
      "text/plain": [
       "building_id       526627.878851\n",
       "damage_grade_1         2.208800\n",
       "damage_grade_2         2.205231\n",
       "damage_grade_3         2.210181\n",
       "all_equals             0.918923\n",
       "dtype: float64"
      ]
     },
     "execution_count": 42,
     "metadata": {},
     "output_type": "execute_result"
    }
   ],
   "source": [
    "merged.mean()\n"
   ]
  },
  {
   "cell_type": "code",
   "execution_count": 68,
   "metadata": {},
   "outputs": [],
   "source": [
    "def most_common(x):\n",
    "    most = x[\"damage_grade_1\"]\n",
    "    if x[\"damage_grade_2\"] == most :\n",
    "        return most\n",
    "    if x[\"damage_grade_3\"] == most :\n",
    "        return most\n",
    "    if x[\"damage_grade_3\"] == x[\"damage_grade_2\"] :\n",
    "        return x[\"damage_grade_3\"]\n",
    "    return x[\"damage_grade_2\"]\n",
    "    \n",
    "    \n",
    "    \n",
    "merged[\"most\"] = merged.apply(most_common, axis = 1)\n",
    "    \n",
    "final = merged[[\"building_id\", \"most\"]]\n",
    "final = final.rename(columns={\"most\":\"damage_grade\"})\n"
   ]
  },
  {
   "cell_type": "code",
   "execution_count": 69,
   "metadata": {},
   "outputs": [],
   "source": [
    "submission_format = pd.read_csv('submission_format.csv', index_col='building_id')\n",
    "my_submission = pd.DataFrame(data=final[\"damage_grade\"].to_numpy(), columns=submission_format.columns, index=submission_format.index)\n",
    "my_submission.to_csv(\"merged_results.csv\")"
   ]
  }
 ],
 "metadata": {
  "kernelspec": {
   "display_name": "Python 3",
   "language": "python",
   "name": "python3"
  },
  "language_info": {
   "codemirror_mode": {
    "name": "ipython",
    "version": 3
   },
   "file_extension": ".py",
   "mimetype": "text/x-python",
   "name": "python",
   "nbconvert_exporter": "python",
   "pygments_lexer": "ipython3",
   "version": "3.8.3"
  }
 },
 "nbformat": 4,
 "nbformat_minor": 4
}
