{
 "cells": [
  {
   "cell_type": "code",
   "execution_count": 14,
   "metadata": {},
   "outputs": [],
   "source": [
    "import pandas as pd\n",
    "import numpy as np\n",
    "import seaborn as sns\n",
    "import squarify # pip install squarify\n",
    "import matplotlib.pyplot as plt\n",
    "import xgboost as xgb\n",
    "%matplotlib inline\n",
    "\n",
    "from sklearn.model_selection import train_test_split\n",
    "from xgboost import XGBClassifier\n",
    "from sklearn.ensemble import RandomForestClassifier\n",
    "from sklearn.ensemble import VotingClassifier\n",
    "from sklearn.neural_network import MLPClassifier\n",
    "from sklearn.preprocessing import LabelEncoder\n",
    "from sklearn.pipeline import make_pipeline\n",
    "from sklearn.model_selection import GridSearchCV\n",
    "from sklearn.metrics import f1_score\n",
    "from sklearn.neighbors import KNeighborsClassifier"
   ]
  },
  {
   "cell_type": "code",
   "execution_count": 15,
   "metadata": {},
   "outputs": [],
   "source": [
    "# suprimimos la notacion cientifica en los outputs\n",
    "pd.options.display.float_format = '{:20,.2f}'.format\n",
    "\n",
    "train_values = pd.read_csv('train_values.csv', index_col='building_id')\n",
    "train_labels = pd.read_csv('train_labels.csv', index_col='building_id')\n",
    "test_values = pd.read_csv('test_values.csv', index_col='building_id')"
   ]
  },
  {
   "cell_type": "code",
   "execution_count": 16,
   "metadata": {},
   "outputs": [],
   "source": [
    "def use(x):\n",
    "    if not x['has_secondary_use']: # Es una casa\n",
    "        return 1\n",
    "    if x['has_secondary_use_agriculture']: # Es de agricultura\n",
    "        return 2\n",
    "    if x['has_secondary_use_hotel']: # Es un hotel\n",
    "        return 3\n",
    "    if x['has_secondary_use_rental']: # Es de alquiler\n",
    "        return 4\n",
    "    if x['has_secondary_use_institution']: # Es una institucion\n",
    "        return 5\n",
    "    if x['has_secondary_use_school']: # Es una escuela\n",
    "        return 6\n",
    "    if x['has_secondary_use_industry']: # Es una industria\n",
    "        return 7\n",
    "    if x['has_secondary_use_health_post']: # Es un puesto de salud\n",
    "        return 8\n",
    "    if x['has_secondary_use_gov_office']: # Es una oficina de gobierno\n",
    "        return 9\n",
    "    if x['has_secondary_use_use_police']: # Es una estacion de policias\n",
    "        return 10\n",
    "    if x['has_secondary_use_other']: # tiene otro uso\n",
    "        return 11\n",
    "    \n",
    "train_values['use'] = train_values.apply(lambda x: use(x), axis=1)\n",
    "test_values['use'] = test_values.apply(lambda x: use(x), axis=1)"
   ]
  },
  {
   "cell_type": "code",
   "execution_count": 17,
   "metadata": {},
   "outputs": [],
   "source": [
    "train_values['height per area'] = train_values.height_percentage / train_values.area_percentage\n",
    "test_values['height per area'] = test_values.height_percentage / test_values.area_percentage"
   ]
  },
  {
   "cell_type": "code",
   "execution_count": 18,
   "metadata": {},
   "outputs": [],
   "source": [
    "subset = train_values[['has_superstructure_adobe_mud', 'has_superstructure_mud_mortar_stone',\n",
    "                       'has_superstructure_stone_flag', 'has_superstructure_cement_mortar_stone',\n",
    "                       'has_superstructure_mud_mortar_brick', 'has_superstructure_cement_mortar_brick',\n",
    "                       'has_superstructure_timber', 'has_superstructure_bamboo', 'has_superstructure_rc_non_engineered',\n",
    "                       'has_superstructure_rc_engineered', 'has_superstructure_other']]\n",
    "train_values[\"cant_materials\"] = subset.sum(axis=1)\n",
    "\n",
    "subset_test = test_values[['has_superstructure_adobe_mud', 'has_superstructure_mud_mortar_stone',\n",
    "                       'has_superstructure_stone_flag', 'has_superstructure_cement_mortar_stone',\n",
    "                       'has_superstructure_mud_mortar_brick', 'has_superstructure_cement_mortar_brick',\n",
    "                       'has_superstructure_timber', 'has_superstructure_bamboo', 'has_superstructure_rc_non_engineered',\n",
    "                       'has_superstructure_rc_engineered', 'has_superstructure_other']]\n",
    "test_values[\"cant_materials\"] = subset_test.sum(axis=1)"
   ]
  },
  {
   "cell_type": "code",
   "execution_count": 19,
   "metadata": {},
   "outputs": [],
   "source": [
    "# Viendo esto podemos agregar otra columna que asigne 1 si tiene la cantidad pisos que resultó con daño considerable\n",
    "def bad_cant_floor(x):\n",
    "    if (x > 0 and x < 6) or x == 8:\n",
    "        return 1\n",
    "    else:\n",
    "        return 0\n",
    "\n",
    "train_values['bad_cant_floor'] = train_values.apply(lambda x: bad_cant_floor(x['count_floors_pre_eq']), axis=1)\n",
    "test_values['bad_cant_floor'] = test_values.apply(lambda x: bad_cant_floor(x['count_floors_pre_eq']), axis=1)"
   ]
  },
  {
   "cell_type": "code",
   "execution_count": 20,
   "metadata": {},
   "outputs": [],
   "source": [
    "selected_features = ['foundation_type', 'area_percentage', 'height_percentage', 'count_floors_pre_eq',\n",
    "                     'land_surface_condition', 'has_superstructure_cement_mortar_stone', 'age', 'geo_level_1_id',\n",
    "                     'geo_level_2_id','geo_level_3_id']#, 'height per area', 'cant_materials', 'bad_cant_floor']\n",
    "\n",
    "train_values_subset = train_values[selected_features]\n",
    "test_values_subset = test_values[selected_features]\n",
    "\n",
    "train_values_subset = pd.get_dummies(train_values_subset)\n",
    "test_values_subset = pd.get_dummies(test_values_subset)"
   ]
  },
  {
   "cell_type": "code",
   "execution_count": 21,
   "metadata": {},
   "outputs": [],
   "source": [
    "def knn_classifier(X_train, X_test, y_train, y_test):\n",
    "    \"\"\"Aplica KNN al test entregado, primero haciendo gridsearch para sacar el k optimo\"\"\"\n",
    "    \n",
    "    k_range = list(range(1, 10))\n",
    "    param_grid = dict(n_neighbors=k_range)\n",
    "    \n",
    "    knn = KNeighborsClassifier(n_neighbors=5)\n",
    "    grid = GridSearchCV(knn, param_grid, cv=10, scoring='f1_micro')\n",
    "    \n",
    "    grid.fit(X_train, y_train)\n",
    "    \n",
    "    knn_best = grid.best_estimator_\n",
    "    \n",
    "    \n",
    "    predict = knn_best.predict_proba(X_test)[:,1]\n",
    "    \n",
    "    return knn_best"
   ]
  },
  {
   "cell_type": "code",
   "execution_count": 22,
   "metadata": {},
   "outputs": [],
   "source": [
    "X1,y1 = train_values[['foundation_type', 'area_percentage', 'height_percentage', 'count_floors_pre_eq',\n",
    "                     'land_surface_condition', 'has_superstructure_cement_mortar_stone', 'age', 'geo_level_1_id',\n",
    "                     'geo_level_2_id','geo_level_3_id', 'height per area', 'cant_materials','bad_cant_floor']],train_labels['damage_grade']"
   ]
  },
  {
   "cell_type": "code",
   "execution_count": 23,
   "metadata": {},
   "outputs": [],
   "source": [
    "X1 = pd.get_dummies(X1)"
   ]
  },
  {
   "cell_type": "code",
   "execution_count": 24,
   "metadata": {},
   "outputs": [],
   "source": [
    "X_train, X_test, y_train, y_test = train_test_split(X1, y1, test_size=0.25, random_state=12)"
   ]
  },
  {
   "cell_type": "code",
   "execution_count": 34,
   "metadata": {},
   "outputs": [
    {
     "data": {
      "text/plain": [
       "KNeighborsClassifier(n_neighbors=10)"
      ]
     },
     "execution_count": 34,
     "metadata": {},
     "output_type": "execute_result"
    }
   ],
   "source": [
    "#knn_model = knn_classifier(X_train, X_test, y_train, y_test)\n",
    "knn_model = KNeighborsClassifier(n_neighbors=10)\n",
    "knn_model.fit(X_train, y_train)"
   ]
  },
  {
   "cell_type": "code",
   "execution_count": 35,
   "metadata": {},
   "outputs": [],
   "source": [
    "predictions_train = knn_model.predict(X_test)"
   ]
  },
  {
   "cell_type": "code",
   "execution_count": 36,
   "metadata": {},
   "outputs": [
    {
     "data": {
      "text/plain": [
       "0.7074028027198356"
      ]
     },
     "execution_count": 36,
     "metadata": {},
     "output_type": "execute_result"
    }
   ],
   "source": [
    "from sklearn.metrics import f1_score\n",
    "\n",
    "f1_score(y_test, predictions_train, average='micro')"
   ]
  }
 ],
 "metadata": {
  "kernelspec": {
   "display_name": "Python 3",
   "language": "python",
   "name": "python3"
  },
  "language_info": {
   "codemirror_mode": {
    "name": "ipython",
    "version": 3
   },
   "file_extension": ".py",
   "mimetype": "text/x-python",
   "name": "python",
   "nbconvert_exporter": "python",
   "pygments_lexer": "ipython3",
   "version": "3.8.5"
  }
 },
 "nbformat": 4,
 "nbformat_minor": 4
}
