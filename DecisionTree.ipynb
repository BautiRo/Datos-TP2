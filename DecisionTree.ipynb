{
 "cells": [
  {
   "cell_type": "code",
   "execution_count": 23,
   "metadata": {},
   "outputs": [],
   "source": [
    "import pandas as pd\n",
    "import numpy as np\n",
    "import seaborn as sns\n",
    "import squarify # pip install squarify\n",
    "import matplotlib.pyplot as plt\n",
    "import xgboost as xgb\n",
    "%matplotlib inline\n",
    "\n",
    "from sklearn.model_selection import train_test_split\n",
    "from xgboost import XGBClassifier\n",
    "from sklearn.ensemble import RandomForestClassifier\n",
    "from sklearn.ensemble import VotingClassifier\n",
    "from sklearn.neural_network import MLPClassifier\n",
    "from sklearn.neighbors import KNeighborsClassifier\n",
    "from sklearn.preprocessing import LabelEncoder\n",
    "from sklearn.pipeline import make_pipeline\n",
    "from sklearn.model_selection import GridSearchCV\n",
    "from sklearn.metrics import f1_score\n",
    "from sklearn.tree import DecisionTreeClassifier\n"
   ]
  },
  {
   "cell_type": "code",
   "execution_count": 24,
   "metadata": {},
   "outputs": [],
   "source": [
    "# suprimimos la notacion cientifica en los outputs\n",
    "pd.options.display.float_format = '{:20,.2f}'.format\n",
    "\n",
    "train_values = pd.read_csv('train_values.csv', index_col='building_id')\n",
    "train_labels = pd.read_csv('train_labels.csv', index_col='building_id')\n",
    "test_values = pd.read_csv('test_values.csv', index_col='building_id')"
   ]
  },
  {
   "cell_type": "code",
   "execution_count": 25,
   "metadata": {},
   "outputs": [],
   "source": [
    "train_values['height per area'] = train_values.height_percentage / train_values.area_percentage\n",
    "test_values['height per area'] = test_values.height_percentage / test_values.area_percentage"
   ]
  },
  {
   "cell_type": "code",
   "execution_count": 26,
   "metadata": {},
   "outputs": [],
   "source": [
    "subset = train_values[['has_superstructure_adobe_mud', 'has_superstructure_mud_mortar_stone',\n",
    "                       'has_superstructure_stone_flag', 'has_superstructure_cement_mortar_stone',\n",
    "                       'has_superstructure_mud_mortar_brick', 'has_superstructure_cement_mortar_brick',\n",
    "                       'has_superstructure_timber', 'has_superstructure_bamboo', 'has_superstructure_rc_non_engineered',\n",
    "                       'has_superstructure_rc_engineered', 'has_superstructure_other']]\n",
    "train_values[\"cant_materials\"] = subset.sum(axis=1)\n",
    "\n",
    "subset_test = test_values[['has_superstructure_adobe_mud', 'has_superstructure_mud_mortar_stone',\n",
    "                       'has_superstructure_stone_flag', 'has_superstructure_cement_mortar_stone',\n",
    "                       'has_superstructure_mud_mortar_brick', 'has_superstructure_cement_mortar_brick',\n",
    "                       'has_superstructure_timber', 'has_superstructure_bamboo', 'has_superstructure_rc_non_engineered',\n",
    "                       'has_superstructure_rc_engineered', 'has_superstructure_other']]\n",
    "test_values[\"cant_materials\"] = subset_test.sum(axis=1)"
   ]
  },
  {
   "cell_type": "code",
   "execution_count": 27,
   "metadata": {},
   "outputs": [],
   "source": [
    "# Viendo esto podemos agregar otra columna que asigne 1 si tiene la cantidad pisos que resultó con daño considerable\n",
    "def bad_cant_floor(x):\n",
    "    if (x > 0 and x < 6) or x == 8:\n",
    "        return 1\n",
    "    else:\n",
    "        return 0\n",
    "\n",
    "train_values['bad_cant_floor'] = train_values.apply(lambda x: bad_cant_floor(x['count_floors_pre_eq']), axis=1)\n",
    "test_values['bad_cant_floor'] = test_values.apply(lambda x: bad_cant_floor(x['count_floors_pre_eq']), axis=1)"
   ]
  },
  {
   "cell_type": "code",
   "execution_count": 28,
   "metadata": {},
   "outputs": [],
   "source": [
    "train_values['has_good_foundation_type'] = train_values.apply(lambda x: 1 if x[\"foundation_type\"] in [\"i\",\"u\",\"w\"] else 0, axis=1)\n",
    "train_values['has_good_roof_type'] = train_values.apply(lambda x: 1 if x[\"roof_type\"] == \"x\" else 0, axis=1)\n",
    "train_values['has_good_ground_floor_type'] = train_values.apply(lambda x: 1 if x[\"ground_floor_type\"] == \"v\" else 0, axis=1)\n",
    "train_values['has_good_other_floor_type'] = train_values.apply(lambda x: 1 if x[\"other_floor_type\"] == \"s\" else 0, axis=1)"
   ]
  },
  {
   "cell_type": "code",
   "execution_count": 29,
   "metadata": {},
   "outputs": [],
   "source": [
    "train_values = pd.get_dummies(train_values, drop_first = True)"
   ]
  },
  {
   "cell_type": "code",
   "execution_count": 30,
   "metadata": {},
   "outputs": [],
   "source": [
    "X1,y1 = train_values, train_labels\n",
    "\n",
    "X_train, X_test, y_train, y_test = train_test_split(X1, y1, test_size = 0.4, random_state = 42)"
   ]
  },
  {
   "cell_type": "code",
   "execution_count": 31,
   "metadata": {},
   "outputs": [],
   "source": [
    "dt = DecisionTreeClassifier(max_features = None,\n",
    "                            max_depth = 45,\n",
    "                            min_samples_split = 3,\n",
    "                            min_samples_leaf = 30,\n",
    "                            random_state=42)"
   ]
  },
  {
   "cell_type": "code",
   "execution_count": 32,
   "metadata": {},
   "outputs": [],
   "source": [
    "model = dt.fit(X_train, y_train)"
   ]
  },
  {
   "cell_type": "code",
   "execution_count": 33,
   "metadata": {},
   "outputs": [],
   "source": [
    "predictions_train = model.predict(X_test)"
   ]
  },
  {
   "cell_type": "code",
   "execution_count": 34,
   "metadata": {},
   "outputs": [
    {
     "data": {
      "text/plain": [
       "0.7098646405924732"
      ]
     },
     "execution_count": 34,
     "metadata": {},
     "output_type": "execute_result"
    }
   ],
   "source": [
    "from sklearn.metrics import f1_score\n",
    "\n",
    "f1_score(y_test, predictions_train, average='micro')"
   ]
  }
 ],
 "metadata": {
  "kernelspec": {
   "display_name": "Python 3",
   "language": "python",
   "name": "python3"
  },
  "language_info": {
   "codemirror_mode": {
    "name": "ipython",
    "version": 3
   },
   "file_extension": ".py",
   "mimetype": "text/x-python",
   "name": "python",
   "nbconvert_exporter": "python",
   "pygments_lexer": "ipython3",
   "version": "3.8.5"
  }
 },
 "nbformat": 4,
 "nbformat_minor": 4
}
